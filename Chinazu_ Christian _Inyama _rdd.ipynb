{
 "cells": [
  {
   "cell_type": "code",
   "execution_count": 0,
   "metadata": {
    "application/vnd.databricks.v1+cell": {
     "cellMetadata": {
      "byteLimit": 2048000,
      "rowLimit": 10000
     },
     "inputWidgets": {},
     "nuid": "39e02ffb-d1a4-4473-993e-513de44d9f39",
     "showTitle": false,
     "title": ""
    }
   },
   "outputs": [
    {
     "name": "stdout",
     "output_type": "stream",
     "text": [
      "Out[17]: [FileInfo(path='dbfs:/FileStore/tables/FaultDataset.csv', name='FaultDataset.csv', size=1703184, modificationTime=1682161219000),\n",
      " FileInfo(path='dbfs:/FileStore/tables/Occupancy_Detection_Data.csv', name='Occupancy_Detection_Data.csv', size=50968, modificationTime=1677682877000),\n",
      " FileInfo(path='dbfs:/FileStore/tables/TS021_2021_2.csv', name='TS021_2021_2.csv', size=497239, modificationTime=1679510757000),\n",
      " FileInfo(path='dbfs:/FileStore/tables/activations/', name='activations/', size=0, modificationTime=0),\n",
      " FileInfo(path='dbfs:/FileStore/tables/activations.zip', name='activations.zip', size=8411369, modificationTime=1675268719000),\n",
      " FileInfo(path='dbfs:/FileStore/tables/archive__1_-1.zip', name='archive__1_-1.zip', size=35601528, modificationTime=1675526853000),\n",
      " FileInfo(path='dbfs:/FileStore/tables/archive__1_-2.zip', name='archive__1_-2.zip', size=35601528, modificationTime=1675527260000),\n",
      " FileInfo(path='dbfs:/FileStore/tables/archive__1_.zip', name='archive__1_.zip', size=35601528, modificationTime=1675519522000),\n",
      " FileInfo(path='dbfs:/FileStore/tables/clinicaltrial_2019.csv', name='clinicaltrial_2019.csv', size=42400056, modificationTime=1680267164000),\n",
      " FileInfo(path='dbfs:/FileStore/tables/clinicaltrial_2019.zip', name='clinicaltrial_2019.zip', size=9707871, modificationTime=1681909421000),\n",
      " FileInfo(path='dbfs:/FileStore/tables/clinicaltrial_2020.csv', name='clinicaltrial_2020.csv', size=46318151, modificationTime=1680267536000),\n",
      " FileInfo(path='dbfs:/FileStore/tables/clinicaltrial_2020.zip', name='clinicaltrial_2020.zip', size=10599182, modificationTime=1679518280000),\n",
      " FileInfo(path='dbfs:/FileStore/tables/clinicaltrial_2021.csv', name='clinicaltrial_2021.csv', size=50359696, modificationTime=1680267592000),\n",
      " FileInfo(path='dbfs:/FileStore/tables/clinicaltrial_2021.zip', name='clinicaltrial_2021.zip', size=11508457, modificationTime=1679518333000),\n",
      " FileInfo(path='dbfs:/FileStore/tables/creditcard.csv', name='creditcard.csv', size=150828752, modificationTime=1682866010000),\n",
      " FileInfo(path='dbfs:/FileStore/tables/creditcard_fraud_file/', name='creditcard_fraud_file/', size=0, modificationTime=0),\n",
      " FileInfo(path='dbfs:/FileStore/tables/creditcard_fraud_file.zip', name='creditcard_fraud_file.zip', size=69155672, modificationTime=1682793363000),\n",
      " FileInfo(path='dbfs:/FileStore/tables/ethnic.csv/', name='ethnic.csv/', size=0, modificationTime=0),\n",
      " FileInfo(path='dbfs:/FileStore/tables/flood-1.csv', name='flood-1.csv', size=128984, modificationTime=1676484554000),\n",
      " FileInfo(path='dbfs:/FileStore/tables/flood-2.csv', name='flood-2.csv', size=128984, modificationTime=1676845655000),\n",
      " FileInfo(path='dbfs:/FileStore/tables/flood.csv', name='flood.csv', size=128984, modificationTime=1676484192000),\n",
      " FileInfo(path='dbfs:/FileStore/tables/flood.zip', name='flood.zip', size=52053, modificationTime=1676483856000),\n",
      " FileInfo(path='dbfs:/FileStore/tables/fraud/', name='fraud/', size=0, modificationTime=0),\n",
      " FileInfo(path='dbfs:/FileStore/tables/fraud-1.zip', name='fraud-1.zip', size=35601528, modificationTime=1675540974000),\n",
      " FileInfo(path='dbfs:/FileStore/tables/fraud-2.zip', name='fraud-2.zip', size=35601528, modificationTime=1676029957000),\n",
      " FileInfo(path='dbfs:/FileStore/tables/fraud-3.zip', name='fraud-3.zip', size=35601528, modificationTime=1676030351000),\n",
      " FileInfo(path='dbfs:/FileStore/tables/fraud-4.zip', name='fraud-4.zip', size=35601528, modificationTime=1676032884000),\n",
      " FileInfo(path='dbfs:/FileStore/tables/fraud-5.zip', name='fraud-5.zip', size=35601528, modificationTime=1676042319000),\n",
      " FileInfo(path='dbfs:/FileStore/tables/fraud-6.zip', name='fraud-6.zip', size=35601528, modificationTime=1676221092000),\n",
      " FileInfo(path='dbfs:/FileStore/tables/fraud.zip', name='fraud.zip', size=35601528, modificationTime=1675536216000),\n",
      " FileInfo(path='dbfs:/FileStore/tables/import_illustration_4151f89c.svg', name='import_illustration_4151f89c.svg', size=1467, modificationTime=1674779130000),\n",
      " FileInfo(path='dbfs:/FileStore/tables/iostream/', name='iostream/', size=0, modificationTime=0),\n",
      " FileInfo(path='dbfs:/FileStore/tables/iotstream.zip', name='iotstream.zip', size=43891, modificationTime=1677091506000),\n",
      " FileInfo(path='dbfs:/FileStore/tables/movies.csv', name='movies.csv', size=494431, modificationTime=1678286534000),\n",
      " FileInfo(path='dbfs:/FileStore/tables/myratings_1_-1.csv', name='myratings_1_-1.csv', size=10683, modificationTime=1678286463000),\n",
      " FileInfo(path='dbfs:/FileStore/tables/myratings_1_.csv', name='myratings_1_.csv', size=10683, modificationTime=1678286414000),\n",
      " FileInfo(path='dbfs:/FileStore/tables/pharma/', name='pharma/', size=0, modificationTime=0),\n",
      " FileInfo(path='dbfs:/FileStore/tables/pharma.csv', name='pharma.csv', size=678999, modificationTime=1683229935000),\n",
      " FileInfo(path='dbfs:/FileStore/tables/pharma.zip', name='pharma.zip', size=109982, modificationTime=1681909672000),\n",
      " FileInfo(path='dbfs:/FileStore/tables/ratings.csv', name='ratings.csv', size=2483723, modificationTime=1678286508000),\n",
      " FileInfo(path='dbfs:/FileStore/tables/streamfile/', name='streamfile/', size=0, modificationTime=0),\n",
      " FileInfo(path='dbfs:/FileStore/tables/streamprocess/', name='streamprocess/', size=0, modificationTime=0),\n",
      " FileInfo(path='dbfs:/FileStore/tables/test-1.json', name='test-1.json', size=17958, modificationTime=1675020299000),\n",
      " FileInfo(path='dbfs:/FileStore/tables/test-1.zip', name='test-1.zip', size=3404, modificationTime=1675019610000),\n",
      " FileInfo(path='dbfs:/FileStore/tables/test-2.json', name='test-2.json', size=17958, modificationTime=1675020463000),\n",
      " FileInfo(path='dbfs:/FileStore/tables/test-2.zip', name='test-2.zip', size=3404, modificationTime=1675019664000),\n",
      " FileInfo(path='dbfs:/FileStore/tables/test-3.json', name='test-3.json', size=17958, modificationTime=1675034401000),\n",
      " FileInfo(path='dbfs:/FileStore/tables/test.json', name='test.json', size=17958, modificationTime=1675020139000),\n",
      " FileInfo(path='dbfs:/FileStore/tables/test.zip', name='test.zip', size=3404, modificationTime=1675019470000),\n",
      " FileInfo(path='dbfs:/FileStore/tables/test__2_-1.zip', name='test__2_-1.zip', size=3404, modificationTime=1675014617000),\n",
      " FileInfo(path='dbfs:/FileStore/tables/test__2_.zip', name='test__2_.zip', size=3404, modificationTime=1675014073000),\n",
      " FileInfo(path='dbfs:/FileStore/tables/webpage/', name='webpage/', size=0, modificationTime=0),\n",
      " FileInfo(path='dbfs:/FileStore/tables/webpage.zip', name='webpage.zip', size=1582, modificationTime=1675872108000),\n",
      " FileInfo(path='dbfs:/FileStore/tables/webpage_files_all/', name='webpage_files_all/', size=0, modificationTime=0),\n",
      " FileInfo(path='dbfs:/FileStore/tables/webpages_files_all/', name='webpages_files_all/', size=0, modificationTime=0)]"
     ]
    }
   ],
   "source": [
    "dbutils.fs.ls(\"/FileStore/tables/\")"
   ]
  },
  {
   "cell_type": "code",
   "execution_count": 0,
   "metadata": {
    "application/vnd.databricks.v1+cell": {
     "cellMetadata": {
      "byteLimit": 2048000,
      "rowLimit": 10000
     },
     "inputWidgets": {},
     "nuid": "16c31f24-1952-4690-83f9-93eafe435860",
     "showTitle": false,
     "title": ""
    }
   },
   "outputs": [
    {
     "name": "stdout",
     "output_type": "stream",
     "text": [
      "Out[18]: True"
     ]
    }
   ],
   "source": [
    "fileroot = \"pharma\"\n",
    "\n",
    "\n",
    "dbutils.fs.cp(\"/FileStore/tables/\" + fileroot + \".zip\", \"file:/tmp/\")"
   ]
  },
  {
   "cell_type": "code",
   "execution_count": 0,
   "metadata": {
    "application/vnd.databricks.v1+cell": {
     "cellMetadata": {
      "byteLimit": 2048000,
      "rowLimit": 10000
     },
     "inputWidgets": {},
     "nuid": "e5e2263e-2859-4a8e-824a-6688c0c2993a",
     "showTitle": false,
     "title": ""
    }
   },
   "outputs": [],
   "source": [
    "import os\n",
    "os.environ['fileroot'] = fileroot\n",
    "\n",
    "\n"
   ]
  },
  {
   "cell_type": "code",
   "execution_count": 0,
   "metadata": {
    "application/vnd.databricks.v1+cell": {
     "cellMetadata": {
      "byteLimit": 2048000,
      "rowLimit": 10000
     },
     "inputWidgets": {},
     "nuid": "11edebd1-9a5b-4423-a0fd-a3ec4d109155",
     "showTitle": false,
     "title": ""
    }
   },
   "outputs": [
    {
     "name": "stdout",
     "output_type": "stream",
     "text": [
      "Archive:  /tmp/pharma.zip\n",
      "  inflating: /tmp/pharma.csv         \n"
     ]
    }
   ],
   "source": [
    "%sh\n",
    "unzip -d /tmp /tmp/$fileroot.zip\n"
   ]
  },
  {
   "cell_type": "code",
   "execution_count": 0,
   "metadata": {
    "application/vnd.databricks.v1+cell": {
     "cellMetadata": {
      "byteLimit": 2048000,
      "rowLimit": 10000
     },
     "inputWidgets": {},
     "nuid": "de3231a7-bd5f-46be-a425-50ac82777f77",
     "showTitle": false,
     "title": ""
    }
   },
   "outputs": [
    {
     "name": "stdout",
     "output_type": "stream",
     "text": [
      "Out[21]: True"
     ]
    }
   ],
   "source": [
    "dbutils.fs.mkdirs(\"/FileStore/tables/\" + fileroot)\n"
   ]
  },
  {
   "cell_type": "code",
   "execution_count": 0,
   "metadata": {
    "application/vnd.databricks.v1+cell": {
     "cellMetadata": {
      "byteLimit": 2048000,
      "rowLimit": 10000
     },
     "inputWidgets": {},
     "nuid": "0c52ecc7-22e6-4569-a0af-af7ef964ec2e",
     "showTitle": false,
     "title": ""
    }
   },
   "outputs": [
    {
     "name": "stdout",
     "output_type": "stream",
     "text": [
      "Out[22]: [FileInfo(path='dbfs:/FileStore/tables/FaultDataset.csv', name='FaultDataset.csv', size=1703184, modificationTime=1682161219000),\n",
      " FileInfo(path='dbfs:/FileStore/tables/Occupancy_Detection_Data.csv', name='Occupancy_Detection_Data.csv', size=50968, modificationTime=1677682877000),\n",
      " FileInfo(path='dbfs:/FileStore/tables/TS021_2021_2.csv', name='TS021_2021_2.csv', size=497239, modificationTime=1679510757000),\n",
      " FileInfo(path='dbfs:/FileStore/tables/activations/', name='activations/', size=0, modificationTime=0),\n",
      " FileInfo(path='dbfs:/FileStore/tables/activations.zip', name='activations.zip', size=8411369, modificationTime=1675268719000),\n",
      " FileInfo(path='dbfs:/FileStore/tables/archive__1_-1.zip', name='archive__1_-1.zip', size=35601528, modificationTime=1675526853000),\n",
      " FileInfo(path='dbfs:/FileStore/tables/archive__1_-2.zip', name='archive__1_-2.zip', size=35601528, modificationTime=1675527260000),\n",
      " FileInfo(path='dbfs:/FileStore/tables/archive__1_.zip', name='archive__1_.zip', size=35601528, modificationTime=1675519522000),\n",
      " FileInfo(path='dbfs:/FileStore/tables/clinicaltrial_2019.csv', name='clinicaltrial_2019.csv', size=42400056, modificationTime=1680267164000),\n",
      " FileInfo(path='dbfs:/FileStore/tables/clinicaltrial_2019.zip', name='clinicaltrial_2019.zip', size=9707871, modificationTime=1681909421000),\n",
      " FileInfo(path='dbfs:/FileStore/tables/clinicaltrial_2020.csv', name='clinicaltrial_2020.csv', size=46318151, modificationTime=1680267536000),\n",
      " FileInfo(path='dbfs:/FileStore/tables/clinicaltrial_2020.zip', name='clinicaltrial_2020.zip', size=10599182, modificationTime=1679518280000),\n",
      " FileInfo(path='dbfs:/FileStore/tables/clinicaltrial_2021.csv', name='clinicaltrial_2021.csv', size=50359696, modificationTime=1680267592000),\n",
      " FileInfo(path='dbfs:/FileStore/tables/clinicaltrial_2021.zip', name='clinicaltrial_2021.zip', size=11508457, modificationTime=1679518333000),\n",
      " FileInfo(path='dbfs:/FileStore/tables/creditcard.csv', name='creditcard.csv', size=150828752, modificationTime=1682866010000),\n",
      " FileInfo(path='dbfs:/FileStore/tables/creditcard_fraud_file/', name='creditcard_fraud_file/', size=0, modificationTime=0),\n",
      " FileInfo(path='dbfs:/FileStore/tables/creditcard_fraud_file.zip', name='creditcard_fraud_file.zip', size=69155672, modificationTime=1682793363000),\n",
      " FileInfo(path='dbfs:/FileStore/tables/ethnic.csv/', name='ethnic.csv/', size=0, modificationTime=0),\n",
      " FileInfo(path='dbfs:/FileStore/tables/flood-1.csv', name='flood-1.csv', size=128984, modificationTime=1676484554000),\n",
      " FileInfo(path='dbfs:/FileStore/tables/flood-2.csv', name='flood-2.csv', size=128984, modificationTime=1676845655000),\n",
      " FileInfo(path='dbfs:/FileStore/tables/flood.csv', name='flood.csv', size=128984, modificationTime=1676484192000),\n",
      " FileInfo(path='dbfs:/FileStore/tables/flood.zip', name='flood.zip', size=52053, modificationTime=1676483856000),\n",
      " FileInfo(path='dbfs:/FileStore/tables/fraud/', name='fraud/', size=0, modificationTime=0),\n",
      " FileInfo(path='dbfs:/FileStore/tables/fraud-1.zip', name='fraud-1.zip', size=35601528, modificationTime=1675540974000),\n",
      " FileInfo(path='dbfs:/FileStore/tables/fraud-2.zip', name='fraud-2.zip', size=35601528, modificationTime=1676029957000),\n",
      " FileInfo(path='dbfs:/FileStore/tables/fraud-3.zip', name='fraud-3.zip', size=35601528, modificationTime=1676030351000),\n",
      " FileInfo(path='dbfs:/FileStore/tables/fraud-4.zip', name='fraud-4.zip', size=35601528, modificationTime=1676032884000),\n",
      " FileInfo(path='dbfs:/FileStore/tables/fraud-5.zip', name='fraud-5.zip', size=35601528, modificationTime=1676042319000),\n",
      " FileInfo(path='dbfs:/FileStore/tables/fraud-6.zip', name='fraud-6.zip', size=35601528, modificationTime=1676221092000),\n",
      " FileInfo(path='dbfs:/FileStore/tables/fraud.zip', name='fraud.zip', size=35601528, modificationTime=1675536216000),\n",
      " FileInfo(path='dbfs:/FileStore/tables/import_illustration_4151f89c.svg', name='import_illustration_4151f89c.svg', size=1467, modificationTime=1674779130000),\n",
      " FileInfo(path='dbfs:/FileStore/tables/iostream/', name='iostream/', size=0, modificationTime=0),\n",
      " FileInfo(path='dbfs:/FileStore/tables/iotstream.zip', name='iotstream.zip', size=43891, modificationTime=1677091506000),\n",
      " FileInfo(path='dbfs:/FileStore/tables/movies.csv', name='movies.csv', size=494431, modificationTime=1678286534000),\n",
      " FileInfo(path='dbfs:/FileStore/tables/myratings_1_-1.csv', name='myratings_1_-1.csv', size=10683, modificationTime=1678286463000),\n",
      " FileInfo(path='dbfs:/FileStore/tables/myratings_1_.csv', name='myratings_1_.csv', size=10683, modificationTime=1678286414000),\n",
      " FileInfo(path='dbfs:/FileStore/tables/pharma/', name='pharma/', size=0, modificationTime=0),\n",
      " FileInfo(path='dbfs:/FileStore/tables/pharma.csv', name='pharma.csv', size=678999, modificationTime=1683229935000),\n",
      " FileInfo(path='dbfs:/FileStore/tables/pharma.zip', name='pharma.zip', size=109982, modificationTime=1681909672000),\n",
      " FileInfo(path='dbfs:/FileStore/tables/ratings.csv', name='ratings.csv', size=2483723, modificationTime=1678286508000),\n",
      " FileInfo(path='dbfs:/FileStore/tables/streamfile/', name='streamfile/', size=0, modificationTime=0),\n",
      " FileInfo(path='dbfs:/FileStore/tables/streamprocess/', name='streamprocess/', size=0, modificationTime=0),\n",
      " FileInfo(path='dbfs:/FileStore/tables/test-1.json', name='test-1.json', size=17958, modificationTime=1675020299000),\n",
      " FileInfo(path='dbfs:/FileStore/tables/test-1.zip', name='test-1.zip', size=3404, modificationTime=1675019610000),\n",
      " FileInfo(path='dbfs:/FileStore/tables/test-2.json', name='test-2.json', size=17958, modificationTime=1675020463000),\n",
      " FileInfo(path='dbfs:/FileStore/tables/test-2.zip', name='test-2.zip', size=3404, modificationTime=1675019664000),\n",
      " FileInfo(path='dbfs:/FileStore/tables/test-3.json', name='test-3.json', size=17958, modificationTime=1675034401000),\n",
      " FileInfo(path='dbfs:/FileStore/tables/test.json', name='test.json', size=17958, modificationTime=1675020139000),\n",
      " FileInfo(path='dbfs:/FileStore/tables/test.zip', name='test.zip', size=3404, modificationTime=1675019470000),\n",
      " FileInfo(path='dbfs:/FileStore/tables/test__2_-1.zip', name='test__2_-1.zip', size=3404, modificationTime=1675014617000),\n",
      " FileInfo(path='dbfs:/FileStore/tables/test__2_.zip', name='test__2_.zip', size=3404, modificationTime=1675014073000),\n",
      " FileInfo(path='dbfs:/FileStore/tables/webpage/', name='webpage/', size=0, modificationTime=0),\n",
      " FileInfo(path='dbfs:/FileStore/tables/webpage.zip', name='webpage.zip', size=1582, modificationTime=1675872108000),\n",
      " FileInfo(path='dbfs:/FileStore/tables/webpage_files_all/', name='webpage_files_all/', size=0, modificationTime=0),\n",
      " FileInfo(path='dbfs:/FileStore/tables/webpages_files_all/', name='webpages_files_all/', size=0, modificationTime=0)]"
     ]
    }
   ],
   "source": [
    "dbutils.fs.ls(\"/FileStore/tables/\")"
   ]
  },
  {
   "cell_type": "code",
   "execution_count": 0,
   "metadata": {
    "application/vnd.databricks.v1+cell": {
     "cellMetadata": {
      "byteLimit": 2048000,
      "rowLimit": 10000
     },
     "inputWidgets": {},
     "nuid": "9ca37e99-e01c-4495-b9cc-0e562c382c2f",
     "showTitle": false,
     "title": ""
    }
   },
   "outputs": [
    {
     "name": "stdout",
     "output_type": "stream",
     "text": [
      "Out[23]: True"
     ]
    }
   ],
   "source": [
    "dbutils.fs.mv(\"file:/tmp/\" + fileroot + \".csv\", \"/FileStore/tables/\", True)\n",
    "\n"
   ]
  },
  {
   "cell_type": "code",
   "execution_count": 0,
   "metadata": {
    "application/vnd.databricks.v1+cell": {
     "cellMetadata": {
      "byteLimit": 2048000,
      "rowLimit": 10000
     },
     "inputWidgets": {},
     "nuid": "b5746f99-b1fe-418b-bac1-37ea2bea31ec",
     "showTitle": false,
     "title": ""
    }
   },
   "outputs": [],
   "source": [
    "#Reading the clinicaltrial csv file into dataframe\n",
    "\n",
    "clinicaltrial_df = spark.read.option(\"header\", True).option(\"escape\",'\\\"').option(\"sep\", \"|\").csv(\"/FileStore/tables/clinicaltrial_2021.csv\")\n"
   ]
  },
  {
   "cell_type": "code",
   "execution_count": 0,
   "metadata": {
    "application/vnd.databricks.v1+cell": {
     "cellMetadata": {
      "byteLimit": 2048000,
      "rowLimit": 10000
     },
     "inputWidgets": {},
     "nuid": "c85ff02e-7e22-4c6e-a265-47c463ddc555",
     "showTitle": false,
     "title": ""
    }
   },
   "outputs": [],
   "source": [
    "#Reading the pharma csv file into dataframe\n",
    "\n",
    "pharma_df = pharma_df1 = spark.read.option(\"header\", True).option(\"escape\",'\\\"').csv(\"/FileStore/tables/pharma.csv\")\n"
   ]
  },
  {
   "cell_type": "code",
   "execution_count": 0,
   "metadata": {
    "application/vnd.databricks.v1+cell": {
     "cellMetadata": {
      "byteLimit": 2048000,
      "rowLimit": 10000
     },
     "inputWidgets": {},
     "nuid": "2a6060fb-0915-4755-9fd3-eb087a5b6d1d",
     "showTitle": false,
     "title": ""
    }
   },
   "outputs": [
    {
     "name": "stdout",
     "output_type": "stream",
     "text": [
      "+--------------------+--------------------+--------------+------------------------+---------------------------------------------------------+------------+------------+--------------------+--------------------+--------------------+--------------------+-------------------+-------------+--------------------+------------------+---------------------+-----+---------------+-----------------------------+------------------+--------------+------------+--------------------+-----+----------+--------------------+--------------------+------------------+-------------------+---------------------------+------------------------+---------------------------+--------------------+--------------------+\n",
      "|             Company|      Parent_Company|Penalty_Amount|Subtraction_From_Penalty|Penalty_Amount_Adjusted_For_Eliminating_Multiple_Counting|Penalty_Year|Penalty_Date|       Offense_Group|     Primary_Offense|   Secondary_Offense|         Description|Level_of_Government|  Action_Type|              Agency|    Civil/Criminal|Prosecution_Agreement|Court|        Case_ID|Private_Litigation_Case_Title|Lawsuit_Resolution|Facility_State|        City|             Address|  Zip|NAICS_Code|   NAICS_Translation|HQ_Country_of_Parent|HQ_State_of_Parent|Ownership_Structure|Parent_Company_Stock_Ticker|Major_Industry_of_Parent|Specific_Industry_of_Parent|         Info_Source|               Notes|\n",
      "+--------------------+--------------------+--------------+------------------------+---------------------------------------------------------+------------+------------+--------------------+--------------------+--------------------+--------------------+-------------------+-------------+--------------------+------------------+---------------------+-----+---------------+-----------------------------+------------------+--------------+------------+--------------------+-----+----------+--------------------+--------------------+------------------+-------------------+---------------------------+------------------------+---------------------------+--------------------+--------------------+\n",
      "| Abbott Laboratories| Abbott Laboratories|    $5,475,000|                      $0|                                               $5,475,000|        2013|    20131227|government-contra...|False Claims Act ...|kickbacks and bri...|Abbott Laboratori...|            federal|agency action|Justice Departmen...|             civil|                 null| null|           null|                         null|              null|          null|        null|                null| null|      null|                null|                 USA|          Illinois|    publicly traded|                        ABT|         pharmaceuticals|            pharmaceuticals|https://www.justi...|                null|\n",
      "|Abbott Laboratori...|              AbbVie|$1,500,000,000|                      $0|                                           $1,500,000,000|        2012|    20120507|healthcare-relate...|off-label or unap...|                null|Global Health Car...|            federal|agency action|Food and Drug Adm...|civil and criminal|                 null| null|           null|                         null|              null|          null|        null|                null| null|      null|                null|                 USA|          Illinois|    publicly traded|                       ABBV|         pharmaceuticals|            pharmaceuticals|http://www.justic...|                null|\n",
      "|Abbott Laboratori...|              AbbVie|  $126,500,000|                      $0|                                             $126,500,000|        2010|    20101207|government-contra...|False Claims Act ...|                null|Abbott Laboratori...|            federal|agency action|Justice Departmen...|             civil|                 null| null|           null|                         null|              null|          null|        null|                null| null|      null|                null|                 USA|          Illinois|    publicly traded|                       ABBV|         pharmaceuticals|            pharmaceuticals|https://www.justi...|                null|\n",
      "|Abbott Laboratori...| Abbott Laboratories|       $49,045|                      $0|                                                  $49,045|        2009|    20090305|employment-relate...|wage and hour vio...|Fair Labor Standa...|                null|            federal|agency action|Labor Department ...|             civil|                 null| null|        1527129|                         null|              null|   Puerto Rico|    San Juan|                null| null|    423450|423450: Medical, ...|                 USA|          Illinois|    publicly traded|                        ABT|         pharmaceuticals|            pharmaceuticals|March 7, 2017 dow...|Date and year are...|\n",
      "|      Acclarent Inc.|   Johnson & Johnson|   $18,000,000|                      $0|                                              $18,000,000|        2016|    20160722|government-contra...|False Claims Act ...|                null|California-based ...|            federal|agency action|Justice Departmen...|             civil|                 null| null|           null|                         null|              null|          null|        null|                null| null|      null|                null|                 USA|        New Jersey|    publicly traded|                        JNJ|         pharmaceuticals|            pharmaceuticals|https://www.justi...|                null|\n",
      "|Advanced Medical ...| Abbott Laboratories|       $16,800|                      $0|                                                  $16,800|        2004|    20040412|employment-relate...|labor relations v...|                null|back pay award in...|            federal|agency action|National Labor Re...|             civil|                 null| null|21-CA-36104-001|                         null|              null|    California|      Irvine|                null|92606|    333314|333314: Optical I...|                 USA|          Illinois|    publicly traded|                        ABT|         pharmaceuticals|            pharmaceuticals|Extracted from an...|                null|\n",
      "|Advanced Neuromod...| Abbott Laboratories|    $2,950,000|                      $0|                                               $2,950,000|        2007|    20070702|healthcare-relate...|HHS civil monetar...|kickbacks and bri...|The HHS Inspector...|            federal|agency action|Health & Human Se...|             civil|                 null| null|           null|                         null|              null|          null|        null|                null| null|      null|                null|                 USA|          Illinois|    publicly traded|                        ABT|         pharmaceuticals|            pharmaceuticals|https://oig.hhs.g...|                null|\n",
      "|Advanced Steriliz...|   Johnson & Johnson|      $136,800|                      $0|                                                 $136,800|        2014|    20140520|environment-relat...|environmental vio...|                null|The U.S. Environm...|            federal|agency action|Environmental Pro...|             civil|                 null| null|           null|                         null|              null|    California|      Irvine|                null| null|      null|                null|                 USA|        New Jersey|    publicly traded|                        JNJ|         pharmaceuticals|            pharmaceuticals|https://archive.e...|                null|\n",
      "|Advanced Steriliz...|   Johnson & Johnson|    $1,200,000|                      $0|                                               $1,200,000|        2013|    20131204|safety-related of...|drug or medical e...|                null|Settlement of a c...|            federal|agency action|Food and Drug Adm...|             civil|                 null| null|           null|                         null|              null|    California|      Irvine|                null| null|      null|                null|                 USA|        New Jersey|    publicly traded|                        JNJ|         pharmaceuticals|            pharmaceuticals|http://www.fda.go...|                null|\n",
      "|Alere San Diego Inc.| Abbott Laboratories|       $10,572|                      $0|                                                  $10,572|        2017|    20170309|employment-relate...|wage and hour vio...|Fair Labor Standa...|                null|            federal|agency action|Labor Department ...|             civil|                 null| null|        1813371|                         null|              null|    California|      Pomona|828 Towne Center Dr.|91767|      null|                null|                 USA|          Illinois|    publicly traded|                        ABT|         pharmaceuticals|            pharmaceuticals|July 23, 2017 dow...|Date and year are...|\n",
      "|       Allergan Inc.|              AbbVie|  $600,000,000|                      $0|                                             $600,000,000|        2010|    20100901|healthcare-relate...|off-label or unap...|                null|American pharmace...|            federal|agency action|Food and Drug Adm...|civil and criminal|                 null| null|           null|                         null|              null|          null|        null|                null| null|      null|                null|                 USA|          Illinois|    publicly traded|                       ABBV|         pharmaceuticals|            pharmaceuticals|http://www.justic...|                null|\n",
      "|       Allergan Inc.|              AbbVie|   $15,000,000|                      $0|                                              $15,000,000|        2017|    20170117|  financial offenses|investor protecti...|                null|Allergan Inc. adm...|            federal|agency action|Securities and Ex...|             civil|                 null| null|           null|                         null|              null|          null|        null|                null| null|      null|                null|                 USA|          Illinois|    publicly traded|                       ABBV|         pharmaceuticals|            pharmaceuticals|https://www.sec.g...|                null|\n",
      "|       Alpharma Inc.|              Pfizer|   $42,500,000|                      $0|                                              $42,500,000|        2010|    20100316|government-contra...|False Claims Act ...|kickbacks and bri...|Alpharma Inc. agr...|            federal|agency action|Justice Departmen...|             civil|                 null| null|           null|                         null|              null|          null|        null|                null| null|      null|                null|                 USA|          New York|    publicly traded|                        PFE|         pharmaceuticals|            pharmaceuticals|https://www.justi...|                null|\n",
      "|      Alpharma, Inc.|              Pfizer|    $2,500,000|                      $0|                                               $2,500,000|        2004|    20040812|competition-relat...|price-fixing or a...|consumer protecti...|Generic drug manu...|            federal|agency action|Federal Trade Com...|             civil|                 null| null|           null|                         null|              null|          null|        null|                null| null|      null|                null|                 USA|          New York|    publicly traded|                        PFE|         pharmaceuticals|            pharmaceuticals|https://www.ftc.g...|                null|\n",
      "|American Pharmace...|Bristol-Myers Squibb|      $160,203|                      $0|                                                 $160,203|        2004|    20041226|employment-relate...|wage and hour vio...|Fair Labor Standa...|                null|            federal|agency action|Labor Department ...|             civil|                 null| null|        1379241|                         null|              null|      New York|Grand Island|                null|14072|     32541|32541: Pharmaceut...|                 USA|          New York|    publicly traded|                        BMY|         pharmaceuticals|            pharmaceuticals|March 7, 2017 dow...|Date and year are...|\n",
      "|          Amgen Inc.|               Amgen|  $762,000,000|                      $0|                                             $762,000,000|        2012|    20121219|healthcare-relate...|off-label or unap...|                null|U.S. District Jud...|            federal|agency action|Food and Drug Adm...|civil and criminal|                 null| null|           null|                         null|              null|          null|        null|                null| null|      null|                null|                 USA|        California|    publicly traded|                       AMGN|         pharmaceuticals|            pharmaceuticals|http://www.justic...|                null|\n",
      "|          Amgen Inc.|               Amgen|   $24,900,000|                      $0|                                              $24,900,000|        2013|    20130416|government-contra...|False Claims Act ...|kickbacks and bri...|Amgen Inc. agreed...|            federal|agency action|Justice Departmen...|             civil|                 null| null|           null|                         null|              null|          null|        null|                null| null|      null|                null|                 USA|        California|    publicly traded|                       AMGN|         pharmaceuticals|            pharmaceuticals|https://www.justi...|                null|\n",
      "|         Amgen, Inc.|               Amgen|       $40,000|                      $0|                                                  $40,000|        2011|    20110302|employment-relate...|labor relations v...|                null|back pay award in...|            federal|agency action|National Labor Re...|             civil|                 null| null|14-CA-30273-001|                         null|              null|      Missouri|   St. Louis|                null|63130|    541720|541720: Research ...|                 USA|        California|    publicly traded|                       AMGN|         pharmaceuticals|            pharmaceuticals|Extracted from an...|                null|\n",
      "|Amneal Pharmaceut...|Amneal Pharmaceut...|       $99,000|                      $0|                                                  $99,000|        2015|    20150930|employment-relate...|employment discri...|                null|                null|            federal|agency action|Office of Federal...|             civil|                 null| null|           null|                         null|              null|          null|        null|                null| null|      null|                null|                 USA|        New Jersey|    publicly traded|                       AMRX|         pharmaceuticals|            pharmaceuticals|https://www.dol.g...|                null|\n",
      "|Astellas Pharma U...|     Astellas Pharma|    $7,300,000|                      $0|                                               $7,300,000|        2014|    20140416|government-contra...|False Claims Act ...|off-label or unap...|Astellas Pharma U...|            federal|agency action|Justice Departmen...|             civil|                 null| null|           null|                         null|              null|          null|        null|                null| null|      null|                null|               Japan|              null|    publicly traded|                       null|         pharmaceuticals|            pharmaceuticals|https://www.justi...|                null|\n",
      "+--------------------+--------------------+--------------+------------------------+---------------------------------------------------------+------------+------------+--------------------+--------------------+--------------------+--------------------+-------------------+-------------+--------------------+------------------+---------------------+-----+---------------+-----------------------------+------------------+--------------+------------+--------------------+-----+----------+--------------------+--------------------+------------------+-------------------+---------------------------+------------------------+---------------------------+--------------------+--------------------+\n",
      "only showing top 20 rows\n",
      "\n"
     ]
    }
   ],
   "source": [
    "pharma_df.show()"
   ]
  },
  {
   "cell_type": "code",
   "execution_count": 0,
   "metadata": {
    "application/vnd.databricks.v1+cell": {
     "cellMetadata": {
      "byteLimit": 2048000,
      "rowLimit": 10000
     },
     "inputWidgets": {},
     "nuid": "ce53d02e-dbe2-4a4e-8111-728c70cd7895",
     "showTitle": false,
     "title": ""
    }
   },
   "outputs": [
    {
     "name": "stdout",
     "output_type": "stream",
     "text": [
      "+-----------+--------------------+--------------------+--------+----------+--------------------+----------+--------------------+--------------------+\n",
      "|         Id|             Sponsor|              Status|   Start|Completion|                Type|Submission|          Conditions|       Interventions|\n",
      "+-----------+--------------------+--------------------+--------+----------+--------------------+----------+--------------------+--------------------+\n",
      "|NCT02758028|The University of...|          Recruiting|Aug 2005|  Nov 2021|      Interventional|  Apr 2016|                null|                null|\n",
      "|NCT02751957|     Duke University|           Completed|Jul 2016|  Jul 2020|      Interventional|  Apr 2016|Autistic Disorder...|                null|\n",
      "|NCT02758483|Universidade Fede...|           Completed|Mar 2017|  Jan 2018|      Interventional|  Apr 2016|   Diabetes Mellitus|                null|\n",
      "|NCT02759848|Istanbul Medeniye...|           Completed|Jan 2012|  Dec 2014|       Observational|  May 2016|Tuberculosis,Lung...|                null|\n",
      "|NCT02758860|University of Rom...|Active, not recru...|Jun 2016|  Sep 2020|Observational [Pa...|  Apr 2016|Diverticular Dise...|                null|\n",
      "|NCT02757209|Consorzio Futuro ...|           Completed|Apr 2016|  Jan 2018|      Interventional|  Apr 2016|              Asthma|Fluticasone,Xhanc...|\n",
      "|NCT02752438|   Ankara University|      Unknown status|May 2016|  Jul 2017|Observational [Pa...|  Apr 2016|     Hypoventilation|                null|\n",
      "|NCT02753543|     Ruijin Hospital|      Unknown status|Nov 2015|  Nov 2019|      Interventional|  Apr 2016|            Lymphoma|                null|\n",
      "|NCT02757508|Washington Univer...|           Completed|Mar 2016|  Jul 2017|      Interventional|  Apr 2016|                null|            Vitamins|\n",
      "|NCT02753530|           Orphazyme|           Completed|Aug 2017|  Jan 2021|      Interventional|  Apr 2016|            Myositis|                null|\n",
      "|NCT02754817|    Novo Nordisk A/S|           Completed|Apr 2016|  Oct 2016|       Observational|  Apr 2016|   Diabetes Mellitus|Liraglutide,Xultophy|\n",
      "|NCT02759276|Daniel Alexandre ...|           Completed|May 2015|  Dec 2015|       Observational|  Apr 2016|        Hypertension|                null|\n",
      "|NCT02750956|Bulent Ecevit Uni...|           Completed|Jun 2015|  Mar 2016|       Observational|  Apr 2016|Periodontal Diseases|                null|\n",
      "|NCT02752113|Institut für Phar...|           Completed|Apr 2016|  May 2019|      Interventional|  Apr 2016|   Diabetes Mellitus|Metformin,Empagli...|\n",
      "|NCT02752698|The Third Xiangya...|Active, not recru...|Jan 2015|  Dec 2021|      Interventional|  Jun 2015|Appendicitis,Stom...|                null|\n",
      "|NCT02755779|Tel Aviv Medical ...|      Unknown status|Jun 2016|  Jun 2017|       Observational|  Apr 2016|                null|                null|\n",
      "|NCT02750384|Medicines for Mal...|          Terminated|May 2016|  Jul 2016|      Interventional|  Apr 2016|                null|                null|\n",
      "|NCT02754609|James Cook Univer...|           Completed|Sep 2016|  Oct 2019|      Interventional|  Apr 2016|Hookworm Infectio...|                null|\n",
      "|NCT02755701|Soonchunhyang Uni...|      Unknown status|Jul 2016|  Dec 2018|      Interventional|  Apr 2016|             Ascites|                null|\n",
      "|NCT02751762|Member Companies ...|          Recruiting|Nov 2017|  Oct 2022|       Observational|  Apr 2016|Chronic Pain,Subs...|                null|\n",
      "+-----------+--------------------+--------------------+--------+----------+--------------------+----------+--------------------+--------------------+\n",
      "only showing top 20 rows\n",
      "\n"
     ]
    }
   ],
   "source": [
    "\n",
    "clinicaltrial_df.show()"
   ]
  },
  {
   "cell_type": "code",
   "execution_count": 0,
   "metadata": {
    "application/vnd.databricks.v1+cell": {
     "cellMetadata": {
      "byteLimit": 2048000,
      "rowLimit": 10000
     },
     "inputWidgets": {},
     "nuid": "fcd97ff7-af25-4df7-b798-b20b0df22f51",
     "showTitle": false,
     "title": ""
    }
   },
   "outputs": [],
   "source": [
    "# Creating the rdd from dataframe\n",
    "\n",
    "clinicaltrial_Rdd = clinicaltrial_df.rdd"
   ]
  },
  {
   "cell_type": "code",
   "execution_count": 0,
   "metadata": {
    "application/vnd.databricks.v1+cell": {
     "cellMetadata": {
      "byteLimit": 2048000,
      "rowLimit": 10000
     },
     "inputWidgets": {},
     "nuid": "69ca8d5f-56b0-4ff6-be30-9db6bba18583",
     "showTitle": false,
     "title": ""
    }
   },
   "outputs": [],
   "source": []
  },
  {
   "cell_type": "code",
   "execution_count": 0,
   "metadata": {
    "application/vnd.databricks.v1+cell": {
     "cellMetadata": {
      "byteLimit": 2048000,
      "rowLimit": 10000
     },
     "inputWidgets": {},
     "nuid": "d3a8fe08-c4d0-4064-b29a-5a4bc518fe63",
     "showTitle": false,
     "title": ""
    }
   },
   "outputs": [
    {
     "name": "stdout",
     "output_type": "stream",
     "text": [
      "Out[29]: [Row(Id='NCT02758028', Sponsor='The University of Hong Kong', Status='Recruiting', Start='Aug 2005', Completion='Nov 2021', Type='Interventional', Submission='Apr 2016', Conditions=None, Interventions=None),\n",
      " Row(Id='NCT02751957', Sponsor='Duke University', Status='Completed', Start='Jul 2016', Completion='Jul 2020', Type='Interventional', Submission='Apr 2016', Conditions='Autistic Disorder,Autism Spectrum Disorder', Interventions=None),\n",
      " Row(Id='NCT02758483', Sponsor='Universidade Federal do Rio de Janeiro', Status='Completed', Start='Mar 2017', Completion='Jan 2018', Type='Interventional', Submission='Apr 2016', Conditions='Diabetes Mellitus', Interventions=None),\n",
      " Row(Id='NCT02759848', Sponsor='Istanbul Medeniyet University', Status='Completed', Start='Jan 2012', Completion='Dec 2014', Type='Observational', Submission='May 2016', Conditions='Tuberculosis,Lung Diseases,Pulmonary Disease', Interventions=None),\n",
      " Row(Id='NCT02758860', Sponsor='University of Roma La Sapienza', Status='Active, not recruiting', Start='Jun 2016', Completion='Sep 2020', Type='Observational [Patient Registry]', Submission='Apr 2016', Conditions='Diverticular Diseases,Diverticulum,Diverticulosis', Interventions=None)]"
     ]
    }
   ],
   "source": [
    "clinicaltrial_Rdd.take(5)"
   ]
  },
  {
   "cell_type": "code",
   "execution_count": 0,
   "metadata": {
    "application/vnd.databricks.v1+cell": {
     "cellMetadata": {
      "byteLimit": 2048000,
      "rowLimit": 10000
     },
     "inputWidgets": {},
     "nuid": "845fc223-2c23-4892-9527-c92ef3a76f53",
     "showTitle": false,
     "title": ""
    }
   },
   "outputs": [],
   "source": [
    "#Creating Rdd from pharma dataframe\n",
    "\n",
    "pharma_Rdd = pharma_df.rdd"
   ]
  },
  {
   "cell_type": "code",
   "execution_count": 0,
   "metadata": {
    "application/vnd.databricks.v1+cell": {
     "cellMetadata": {
      "byteLimit": 2048000,
      "rowLimit": 10000
     },
     "inputWidgets": {},
     "nuid": "2af0315d-e82f-4ebb-bac2-02b4f96e9b19",
     "showTitle": false,
     "title": ""
    }
   },
   "outputs": [
    {
     "name": "stdout",
     "output_type": "stream",
     "text": [
      "Out[31]: [Row(Company='Abbott Laboratories', Parent_Company='Abbott Laboratories', Penalty_Amount='$5,475,000', Subtraction_From_Penalty='$0', Penalty_Amount_Adjusted_For_Eliminating_Multiple_Counting='$5,475,000', Penalty_Year='2013', Penalty_Date='20131227', Offense_Group='government-contracting-related offenses', Primary_Offense='False Claims Act and related', Secondary_Offense='kickbacks and bribery', Description=\"Abbott Laboratories agreed to $5.475 million to resolve allegations that it violated the False Claims Act by paying kickbacks to induce doctors to implant the company's carotid, biliary and peripheral vascular products.\", Level_of_Government='federal', Action_Type='agency action', Agency='Justice Department Civil Division', Civil/Criminal='civil', Prosecution_Agreement=None, Court=None, Case_ID=None, Private_Litigation_Case_Title=None, Lawsuit_Resolution=None, Facility_State=None, City=None, Address=None, Zip=None, NAICS_Code=None, NAICS_Translation=None, HQ_Country_of_Parent='USA', HQ_State_of_Parent='Illinois', Ownership_Structure='publicly traded', Parent_Company_Stock_Ticker='ABT', Major_Industry_of_Parent='pharmaceuticals', Specific_Industry_of_Parent='pharmaceuticals', Info_Source='https://www.justice.gov/opa/pr/abbott-laboratories-pays-us-5475-million-settle-claims-company-paid-kickbacks-physicians', Notes=None),\n",
      " Row(Company='Abbott Laboratories Inc.', Parent_Company='AbbVie', Penalty_Amount='$1,500,000,000', Subtraction_From_Penalty='$0', Penalty_Amount_Adjusted_For_Eliminating_Multiple_Counting='$1,500,000,000', Penalty_Year='2012', Penalty_Date='20120507', Offense_Group='healthcare-related offenses', Primary_Offense='off-label or unapproved promotion of medical products', Secondary_Offense=None, Description=\"Global Health Care Company Abbott Laboratories Inc. has pleaded guilty and agreed to pay $1.5 billion to resolve its criminal and civil liability arising from the company's unlawful promotion of the prescription drug Depakote for uses not approved as safe and effective by the Food and Drug Administration. The resolution - the second largest payment by a drug company - includes a criminal fine and forfeiture totaling $700 million and civil settlements with the federal government and the states totaling $800 million. Abbott also will be subject to court-supervised probation and reporting obligations for Abbotts CEO and Board of Directors.\", Level_of_Government='federal', Action_Type='agency action', Agency='Food and Drug Administration referral to the Justice Department', Civil/Criminal='civil and criminal', Prosecution_Agreement=None, Court=None, Case_ID=None, Private_Litigation_Case_Title=None, Lawsuit_Resolution=None, Facility_State=None, City=None, Address=None, Zip=None, NAICS_Code=None, NAICS_Translation=None, HQ_Country_of_Parent='USA', HQ_State_of_Parent='Illinois', Ownership_Structure='publicly traded', Parent_Company_Stock_Ticker='ABBV', Major_Industry_of_Parent='pharmaceuticals', Specific_Industry_of_Parent='pharmaceuticals', Info_Source='http://www.justice.gov/opa/pr/abbott-labs-pay-15-billion-resolve-criminal-civil-investigations-label-promotion-depakote', Notes=None),\n",
      " Row(Company='Abbott Laboratories Inc.', Parent_Company='AbbVie', Penalty_Amount='$126,500,000', Subtraction_From_Penalty='$0', Penalty_Amount_Adjusted_For_Eliminating_Multiple_Counting='$126,500,000', Penalty_Year='2010', Penalty_Date='20101207', Offense_Group='government-contracting-related offenses', Primary_Offense='False Claims Act and related', Secondary_Offense=None, Description='Abbott Laboratories Inc., B. Braun Medical Inc. and Roxane Laboratories Inc. n/k/a Boehringer Ingelheim Roxane Inc. and affiliated entities agreed to pay $421 million to settle False Claims Act allegations, that they engaged in a scheme to report false and inflated prices for numerous pharmaceutical products knowing that federal healthcare programs relied on those reported prices to set payment rates.', Level_of_Government='federal', Action_Type='agency action', Agency='Justice Department Civil Division', Civil/Criminal='civil', Prosecution_Agreement=None, Court=None, Case_ID=None, Private_Litigation_Case_Title=None, Lawsuit_Resolution=None, Facility_State=None, City=None, Address=None, Zip=None, NAICS_Code=None, NAICS_Translation=None, HQ_Country_of_Parent='USA', HQ_State_of_Parent='Illinois', Ownership_Structure='publicly traded', Parent_Company_Stock_Ticker='ABBV', Major_Industry_of_Parent='pharmaceuticals', Specific_Industry_of_Parent='pharmaceuticals', Info_Source='https://www.justice.gov/opa/pr/pharmaceutical-manufacturers-pay-4212-million-settle-false-claims-act-cases', Notes=None),\n",
      " Row(Company='Abbott Laboratories Puerto Rico, Inc.', Parent_Company='Abbott Laboratories', Penalty_Amount='$49,045', Subtraction_From_Penalty='$0', Penalty_Amount_Adjusted_For_Eliminating_Multiple_Counting='$49,045', Penalty_Year='2009', Penalty_Date='20090305', Offense_Group='employment-related offenses', Primary_Offense='wage and hour violation', Secondary_Offense='Fair Labor Standards Act', Description=None, Level_of_Government='federal', Action_Type='agency action', Agency='Labor Department Wage and Hour Division', Civil/Criminal='civil', Prosecution_Agreement=None, Court=None, Case_ID='1527129', Private_Litigation_Case_Title=None, Lawsuit_Resolution=None, Facility_State='Puerto Rico', City='San Juan', Address=None, Zip=None, NAICS_Code='423450', NAICS_Translation='423450: Medical, Dental, and Hospital Equipment and Supplies Merchant Wholesalers', HQ_Country_of_Parent='USA', HQ_State_of_Parent='Illinois', Ownership_Structure='publicly traded', Parent_Company_Stock_Ticker='ABT', Major_Industry_of_Parent='pharmaceuticals', Specific_Industry_of_Parent='pharmaceuticals', Info_Source='March 7, 2017 download of a dataset posted by the Wage and Hour Division at https://enforcedata.dol.gov/views/data_summary.php', Notes='Date and year are the Findings End Date in the dataset posted by the Wage and Hour Division, which does not provide case opening or closing dates. The company name is the Legal Name provided by the dataset unless that field is blank, in which case the Trade Name is used. The dataset provides only one address and does not indicate whether it is the company headquarters address or the establishment address. The penalty amount is the total of civil monetary penalties and mandated back wages. The original dataset provides a breakdown.'),\n",
      " Row(Company='Acclarent Inc.', Parent_Company='Johnson & Johnson', Penalty_Amount='$18,000,000', Subtraction_From_Penalty='$0', Penalty_Amount_Adjusted_For_Eliminating_Multiple_Counting='$18,000,000', Penalty_Year='2016', Penalty_Date='20160722', Offense_Group='government-contracting-related offenses', Primary_Offense='False Claims Act and related', Secondary_Offense=None, Description='California-based medical device manufacturer Acclarent Inc., a subsidiary of Johnson & Johnson, agreed to pay $18 million to resolve allegations that the company caused health care providers to submit false claims to Medicare and other federal health care programs by marketing and distributing its sinus spacer product for use as a drug delivery device without Food and Drug Administration approval.', Level_of_Government='federal', Action_Type='agency action', Agency='Justice Department Civil Division', Civil/Criminal='civil', Prosecution_Agreement=None, Court=None, Case_ID=None, Private_Litigation_Case_Title=None, Lawsuit_Resolution=None, Facility_State=None, City=None, Address=None, Zip=None, NAICS_Code=None, NAICS_Translation=None, HQ_Country_of_Parent='USA', HQ_State_of_Parent='New Jersey', Ownership_Structure='publicly traded', Parent_Company_Stock_Ticker='JNJ', Major_Industry_of_Parent='pharmaceuticals', Specific_Industry_of_Parent='pharmaceuticals', Info_Source='https://www.justice.gov/opa/pr/johnson-johnson-subsidiary-acclarent-inc-pays-government-18-million-settle-false-claims-act', Notes=None)]"
     ]
    }
   ],
   "source": [
    "pharma_Rdd.take(5)"
   ]
  },
  {
   "cell_type": "code",
   "execution_count": 0,
   "metadata": {
    "application/vnd.databricks.v1+cell": {
     "cellMetadata": {
      "byteLimit": 2048000,
      "rowLimit": 10000
     },
     "inputWidgets": {},
     "nuid": "5c22c3d1-1f97-49e6-880d-f0c2555dd05b",
     "showTitle": false,
     "title": ""
    }
   },
   "outputs": [
    {
     "name": "stdout",
     "output_type": "stream",
     "text": [
      "Out[32]: 387261"
     ]
    }
   ],
   "source": [
    "# QUESTION 1\n",
    "\n",
    "#This code calculates the total number of non-null values in the \"Type\" column of the \"clinicaltrial_Rdd\" dataset.\n",
    "\n",
    "clinicaltrial_Rdd.filter(lambda row: row.Type is not None) \\\n",
    "    .map(lambda row: (row.Type, 1)) \\\n",
    "    .reduceByKey(lambda a, b: a + b) \\\n",
    "    .map(lambda row : row[1]) \\\n",
    "    .reduce(lambda a, b: a + b)"
   ]
  },
  {
   "cell_type": "code",
   "execution_count": 0,
   "metadata": {
    "application/vnd.databricks.v1+cell": {
     "cellMetadata": {
      "byteLimit": 2048000,
      "rowLimit": 10000
     },
     "inputWidgets": {},
     "nuid": "384fd895-5794-40db-83ee-7db07ea1a556",
     "showTitle": false,
     "title": ""
    }
   },
   "outputs": [
    {
     "name": "stdout",
     "output_type": "stream",
     "text": [
      "Out[33]: [(301472, 'Interventional'),\n",
      " (77540, 'Observational'),\n",
      " (8180, 'Observational [Patient Registry]'),\n",
      " (69, 'Expanded Access')]"
     ]
    }
   ],
   "source": [
    "#Question 2\n",
    "\n",
    "#This code finds the top 10 values with the highest frequency count in the \"Type\" column of the \"clinicaltrial_Rdd\" dataset.\n",
    "\n",
    "clinicaltrial_Rdd.filter(lambda row: row.Type is not None) \\\n",
    "    .map(lambda row: (row.Type, 1)) \\\n",
    "    .reduceByKey(lambda a, b: a + b) \\\n",
    "    .map(lambda row: (row[1], row[0])) \\\n",
    "    .sortByKey(False).take(10)\n"
   ]
  },
  {
   "cell_type": "code",
   "execution_count": 0,
   "metadata": {
    "application/vnd.databricks.v1+cell": {
     "cellMetadata": {
      "byteLimit": 2048000,
      "rowLimit": 10000
     },
     "inputWidgets": {},
     "nuid": "c3f54e4f-606c-4a64-85f7-8a9ec181a8ac",
     "showTitle": false,
     "title": ""
    }
   },
   "outputs": [
    {
     "name": "stdout",
     "output_type": "stream",
     "text": [
      "Out[34]: [(13389, 'Carcinoma'),\n",
      " (11080, 'Diabetes Mellitus'),\n",
      " (9371, 'Neoplasms'),\n",
      " (8640, 'Breast Neoplasms'),\n",
      " (8032, 'Syndrome')]"
     ]
    }
   ],
   "source": [
    "#QUESTION 3\n",
    "\n",
    "#This code finds the top 5 most common values in the \"Conditions\" column of the \"clinicaltrial_Rdd\" dataset, counts their frequency, and orders them by the count in descending order.\n",
    "\n",
    "clinicaltrial_Rdd.filter(lambda row: row.Conditions is not None) \\\n",
    "   .filter(lambda row: row.Id is not None) \\\n",
    "   .map(lambda row: (row.Id, row.Conditions)) \\\n",
    "   .flatMapValues(lambda x: x.split(\",\")) \\\n",
    "   .map(lambda row: (row[1].strip(),1)) \\\n",
    "   .reduceByKey(lambda a, b: a + b) \\\n",
    "   .map(lambda row: (row[1], row[0])) \\\n",
    "   .sortByKey(False) \\\n",
    "   .take(5)"
   ]
  },
  {
   "cell_type": "code",
   "execution_count": 0,
   "metadata": {
    "application/vnd.databricks.v1+cell": {
     "cellMetadata": {
      "byteLimit": 2048000,
      "rowLimit": 10000
     },
     "inputWidgets": {},
     "nuid": "fbfcd3e5-db34-40a1-8763-14e868f6ef71",
     "showTitle": false,
     "title": ""
    }
   },
   "outputs": [
    {
     "name": "stdout",
     "output_type": "stream",
     "text": [
      "[('National Cancer Institute (NCI)', 3218), ('M.D. Anderson Cancer Center', 2414), ('Assistance Publique - Hôpitaux de Paris', 2369), ('Mayo Clinic', 2300), ('Merck Sharp & Dohme Corp.', 2243), ('Assiut University', 2154), ('Novartis Pharmaceuticals', 2088), ('Massachusetts General Hospital', 1971), ('Cairo University', 1928), ('Hoffmann-La Roche', 1828)]\n"
     ]
    }
   ],
   "source": [
    "#This code filters non-null data from clinical trial and pharma datasets, subtracts the pharma data from clinical data, counts the remaining sponsors and sorts them in descending order. The output is saved to a list of top 10 tuples containing the Sponsor name and the count of studies they conducted.\n",
    "\n",
    "clinic =clinicaltrial_Rdd.filter(lambda row: row.Sponsor and row.Type) \\\n",
    "                  .map(lambda row: (row.Sponsor.strip(), row.Type.strip()))\n",
    "\n",
    "pharma = pharma_Rdd.filter(lambda row: row.Parent_Company and row.Company) \\\n",
    "                  .map(lambda row: (row.Parent_Company.strip(), row.Company.strip()))\n",
    "\n",
    "result = list(clinic.subtractByKey(pharma).countByKey().items())\n",
    "result = sorted(result, key=lambda x: x[1], reverse=True)[:10]\n",
    "print(result)\n"
   ]
  },
  {
   "cell_type": "code",
   "execution_count": 0,
   "metadata": {
    "application/vnd.databricks.v1+cell": {
     "cellMetadata": {
      "byteLimit": 2048000,
      "rowLimit": 10000
     },
     "inputWidgets": {},
     "nuid": "aa13f846-a307-4e60-ae29-9f1bca6cec29",
     "showTitle": false,
     "title": ""
    }
   },
   "outputs": [
    {
     "name": "stdout",
     "output_type": "stream",
     "text": [
      "Out[36]: [(3218, 'National Cancer Institute (NCI)'),\n",
      " (2414, 'M.D. Anderson Cancer Center'),\n",
      " (2369, 'Assistance Publique - Hôpitaux de Paris'),\n",
      " (2300, 'Mayo Clinic'),\n",
      " (2243, 'Merck Sharp & Dohme Corp.'),\n",
      " (2154, 'Assiut University'),\n",
      " (2088, 'Novartis Pharmaceuticals'),\n",
      " (1971, 'Massachusetts General Hospital'),\n",
      " (1928, 'Cairo University'),\n",
      " (1828, 'Hoffmann-La Roche')]"
     ]
    }
   ],
   "source": [
    "#QUESTION 4\n",
    "\n",
    "#Finding the top 10 sponsors in the \"clinicaltrial_Rdd\" dataset who are not listed in the \"Parent_Company\" column of the \"pharma_Rdd\" dataset and have conducted the most clinical trials of a certain type.\n",
    "\n",
    "clinicaltrial_Rdd.filter(lambda row: row.Sponsor is not None) \\\n",
    "   .filter(lambda row: row.Type is not None) \\\n",
    "   .map(lambda row: (row.Sponsor.strip(),row.Type.strip())) \\\n",
    "   .subtractByKey(pharma_Rdd.filter(lambda row: row.Parent_Company is not None) \\\n",
    "   .filter(lambda row: row.Company is not None) \\\n",
    "   .map(lambda row: (row.Parent_Company.strip(),row.Company.strip()))) \\\n",
    "   .map(lambda row: (row[0],1)) \\\n",
    "   .reduceByKey(lambda a, b: a + b) \\\n",
    "   .map(lambda row: (row[1], row[0])) \\\n",
    "   .sortByKey(False) \\\n",
    "   .take(10)"
   ]
  },
  {
   "cell_type": "code",
   "execution_count": 0,
   "metadata": {
    "application/vnd.databricks.v1+cell": {
     "cellMetadata": {
      "byteLimit": 2048000,
      "rowLimit": 10000
     },
     "inputWidgets": {},
     "nuid": "6fd41834-c5a3-4962-98de-897b451d2806",
     "showTitle": false,
     "title": ""
    }
   },
   "outputs": [
    {
     "name": "stdout",
     "output_type": "stream",
     "text": [
      "Out[37]: [('Apr 2019', 1368),\n",
      " ('Aug 2019', 1406),\n",
      " ('Dec 2019', 2690),\n",
      " ('Feb 2019', 1149),\n",
      " ('Jan 2019', 1368),\n",
      " ('Jul 2019', 1547),\n",
      " ('Jun 2019', 1647),\n",
      " ('Mar 2019', 1470),\n",
      " ('May 2019', 1342),\n",
      " ('Nov 2019', 1223),\n",
      " ('Oct 2019', 1310),\n",
      " ('Sep 2019', 1421)]"
     ]
    }
   ],
   "source": [
    "#QUESTION 5\n",
    "#This code calculates the number of completed clinical trials in 2019 and orders them by their completion date in ascending order.\n",
    "\n",
    "clinicaltrial_Rdd.filter(lambda row: row.Status is not None) \\\n",
    "   .filter(lambda row: row.Completion is not None) \\\n",
    "   .filter(lambda row: row.Status == 'Completed') \\\n",
    "   .map(lambda row: (row.Status,row.Completion,row.Completion[4:8])) \\\n",
    "   .filter(lambda row: row[2] == '2019') \\\n",
    "   .map(lambda row: (row[1].strip(),row[0])) \\\n",
    "   .groupByKey() \\\n",
    "   .map(lambda row: (row[0], len(row[1]))) \\\n",
    "   .sortByKey() \\\n",
    "   .take(15)"
   ]
  },
  {
   "cell_type": "code",
   "execution_count": 0,
   "metadata": {
    "application/vnd.databricks.v1+cell": {
     "cellMetadata": {
      "byteLimit": 2048000,
      "rowLimit": 10000
     },
     "inputWidgets": {},
     "nuid": "d410a2d7-de85-4ca1-a0d1-5ffa1e3c0668",
     "showTitle": false,
     "title": ""
    }
   },
   "outputs": [],
   "source": [
    "# EXTRA IMPLEMENTATION"
   ]
  },
  {
   "cell_type": "code",
   "execution_count": 0,
   "metadata": {
    "application/vnd.databricks.v1+cell": {
     "cellMetadata": {
      "byteLimit": 2048000,
      "rowLimit": 10000
     },
     "inputWidgets": {},
     "nuid": "2c0d6f75-447c-424a-b60e-6cfa51d4b670",
     "showTitle": false,
     "title": ""
    }
   },
   "outputs": [
    {
     "name": "stdout",
     "output_type": "stream",
     "text": [
      "Out[39]: [('Novo Nordisk A/S', 'Diabetes Mellitus', 636),\n",
      " ('Novo Nordisk A/S', None, 108),\n",
      " ('Novo Nordisk A/S',\n",
      "  'Hemostatic Disorders,Hemophilia A,Hemophilia B,Blood Coagulation Disorders',\n",
      "  39),\n",
      " ('Novo Nordisk A/S', 'Obesity,Overweight', 19),\n",
      " ('Novo Nordisk A/S',\n",
      "  'Hemostatic Disorders,Hemophilia A,Blood Coagulation Disorders',\n",
      "  18),\n",
      " ('Novo Nordisk A/S', 'Hemostatic Disorders,Blood Coagulation Disorders', 17),\n",
      " ('Novo Nordisk A/S', 'Dwarfism,Endocrine System Diseases', 16),\n",
      " ('Novo Nordisk A/S', 'Obesity,Nutrition Disorders,Overweight', 13),\n",
      " ('Novo Nordisk A/S', 'Arthritis,Inflammation', 12),\n",
      " ('Novo Nordisk A/S', 'Hemophilia A', 9),\n",
      " ('Novo Nordisk A/S', 'Dwarfism', 8),\n",
      " ('Novo Nordisk A/S', 'Diabetes Mellitus,Hypoglycemia', 7),\n",
      " ('Novo Nordisk A/S',\n",
      "  'Hemostatic Disorders,Blood Coagulation Disorders,Hemorrhage',\n",
      "  7),\n",
      " ('Novo Nordisk A/S',\n",
      "  'Hemostatic Disorders,Hemophilia A,Blood Coagulation Disorders,Hemorrhage',\n",
      "  7),\n",
      " ('Novo Nordisk A/S', 'Nutrition Disorders', 6),\n",
      " ('Novo Nordisk A/S', 'Nutrition Disorders,Overweight', 6),\n",
      " ('Novo Nordisk A/S', 'Hemophilia A,Hemophilia B', 6),\n",
      " ('Novo Nordisk A/S', 'Overweight', 6),\n",
      " ('Novo Nordisk A/S', 'Vaginitis,Atrophic Vaginitis,Atrophy', 6),\n",
      " ('Novo Nordisk A/S',\n",
      "  'Hemostatic Disorders,Hemophilia A,Hemophilia B,Blood Coagulation Disorders,Hemorrhage',\n",
      "  5),\n",
      " ('Novo Nordisk A/S', 'Obesity', 5),\n",
      " ('Novo Nordisk A/S',\n",
      "  'Cerebral Hemorrhage,Hemostatic Disorders,Blood Coagulation Disorders,Hemorrhage',\n",
      "  4),\n",
      " ('Novo Nordisk A/S', 'Obesity,Nutrition Disorders', 4),\n",
      " ('Novo Nordisk A/S', 'Fatty Liver,Non-alcoholic Fatty Liver Disease', 4),\n",
      " ('Novo Nordisk A/S', 'Hemorrhage', 4),\n",
      " ('Novo Nordisk A/S',\n",
      "  'Turner Syndrome,Gonadal Dysgenesis,Genetic Diseases,Syndrome',\n",
      "  4),\n",
      " ('Novo Nordisk A/S',\n",
      "  'Kidney Diseases,Renal Insufficiency,Diabetes Mellitus',\n",
      "  3),\n",
      " ('Novo Nordisk A/S', 'Growth Disorders', 3),\n",
      " ('Novo Nordisk A/S', 'Diabetes Mellitus,Overweight', 3),\n",
      " ('Novo Nordisk A/S', 'Obesity,Diabetes Mellitus,Overweight', 3),\n",
      " ('Novo Nordisk A/S', 'Kidney Diseases,Renal Insufficiency,Kidney Failure', 3),\n",
      " ('Novo Nordisk A/S', 'Lupus Erythematosus,Inflammation', 3),\n",
      " ('Novo Nordisk A/S',\n",
      "  'Hemostatic Disorders,Blood Coagulation Disorders,Hemorrhage,Wounds and Injuries',\n",
      "  2),\n",
      " ('Novo Nordisk A/S', 'Achondroplasia,Genetic Diseases', 2),\n",
      " ('Novo Nordisk A/S', 'Melanoma', 2),\n",
      " ('Novo Nordisk A/S',\n",
      "  'Kidney Diseases,Renal Insufficiency,Turner Syndrome,Genetic Diseases,Disease',\n",
      "  2),\n",
      " ('Novo Nordisk A/S', 'Dwarfism,Noonan Syndrome,Genetic Diseases,Syndrome', 2),\n",
      " ('Novo Nordisk A/S',\n",
      "  'Hemostatic Disorders,Blood Coagulation Disorders,Thrombasthenia',\n",
      "  2),\n",
      " ('Novo Nordisk A/S', 'Fetal Growth Retardation', 2),\n",
      " ('Novo Nordisk A/S',\n",
      "  'Kidney Diseases,Renal Insufficiency,Kidney Failure,Inflammation',\n",
      "  2),\n",
      " ('Novo Nordisk A/S', 'Alzheimer Disease', 2),\n",
      " ('Novo Nordisk A/S', 'Cardiovascular Diseases,Atherosclerosis', 2),\n",
      " ('Novo Nordisk A/S', 'Kidney Diseases,Renal Insufficiency', 2),\n",
      " ('Novo Nordisk A/S', 'Renal Insufficiency,Diabetes Mellitus', 2),\n",
      " ('Novo Nordisk A/S', 'Hypercholesterolemia', 1),\n",
      " ('Novo Nordisk A/S',\n",
      "  'Dwarfism,Noonan Syndrome,Kidney Diseases,Renal Insufficiency,Turner Syndrome,Genetic Diseases,Endocrine System Diseases,Disease,Syndrome',\n",
      "  1),\n",
      " ('Novo Nordisk A/S', 'Diabetes Mellitus,Prediabetic State', 1),\n",
      " ('Novo Nordisk A/S', 'Heart Failure,Diabetes Mellitus', 1),\n",
      " ('Novo Nordisk A/S',\n",
      "  'Dwarfism,Turner Syndrome,Gonadal Dysgenesis,Genetic Diseases,Disease,Syndrome',\n",
      "  1),\n",
      " ('Novo Nordisk A/S', 'Atrophy', 1),\n",
      " ('Novo Nordisk A/S',\n",
      "  'Liver Diseases,Fatty Liver,Non-alcoholic Fatty Liver Disease,Digestive System Diseases',\n",
      "  1),\n",
      " ('Novo Nordisk A/S', 'Crohn Disease,Inflammation', 1),\n",
      " ('Novo Nordisk A/S',\n",
      "  'Liver Cirrhosis,Hemostatic Disorders,Blood Coagulation Disorders,Hemorrhage,Fibrosis',\n",
      "  1),\n",
      " ('Novo Nordisk A/S', 'Dwarfism,Growth Disorders', 1),\n",
      " ('Novo Nordisk A/S',\n",
      "  'Dwarfism,Turner Syndrome,Gonadal Dysgenesis,Genetic Diseases,Disease',\n",
      "  1),\n",
      " ('Novo Nordisk A/S', 'Cystitis', 1),\n",
      " ('Novo Nordisk A/S',\n",
      "  'Cerebral Hemorrhage,Hemostatic Disorders,Blood Coagulation Disorders,Hemorrhage,Hematoma',\n",
      "  1),\n",
      " ('Novo Nordisk A/S', 'Cardiovascular Diseases,Diabetes Mellitus', 1),\n",
      " ('Novo Nordisk A/S',\n",
      "  'Gastrointestinal Diseases,Digestive System Diseases,Diabetes Mellitus',\n",
      "  1),\n",
      " ('Novo Nordisk A/S',\n",
      "  'Apnea,Sleep Apnea Syndromes,Sleep Apnea,Nutrition Disorders',\n",
      "  1),\n",
      " ('Novo Nordisk A/S', 'Osteoarthritis,Obesity', 1),\n",
      " ('Novo Nordisk A/S',\n",
      "  'Hemostatic Disorders,Hemophilia A,Hemophilia B,Blood Coagulation Disorders,Hemorrhagic Disorders,Disease,Hemorrhage',\n",
      "  1),\n",
      " ('Novo Nordisk A/S',\n",
      "  'Hemostatic Disorders,Blood Coagulation Disorders,Factor XIII Deficiency',\n",
      "  1),\n",
      " ('Novo Nordisk A/S', 'Hemophilia A,Hemophilia B,Obesity', 1),\n",
      " ('Novo Nordisk A/S',\n",
      "  'Brain Injuries,Brain Contusion,Hemostatic Disorders,Blood Coagulation Disorders,Contusions',\n",
      "  1),\n",
      " ('Novo Nordisk A/S', 'Prader-Willi Syndrome,Genetic Diseases,Syndrome', 1),\n",
      " ('Novo Nordisk A/S', 'Psoriasis,Inflammation', 1),\n",
      " ('Novo Nordisk A/S',\n",
      "  'Dengue,Hemorrhagic Fevers,Severe Dengue,Hemostatic Disorders,Blood Coagulation Disorders,Fever',\n",
      "  1),\n",
      " ('Novo Nordisk A/S', 'Diabetes Mellitus,Body Weight Changes', 1),\n",
      " ('Novo Nordisk A/S', 'Asthma,Diabetes Mellitus', 1),\n",
      " ('Novo Nordisk A/S',\n",
      "  'Infections,Communicable Diseases,Urinary Tract Infections',\n",
      "  1),\n",
      " ('Novo Nordisk A/S', 'Nutrition Disorders,Weight Loss', 1),\n",
      " ('Novo Nordisk A/S',\n",
      "  'Obesity,Prediabetic State,Nutrition Disorders,Overweight,Body Weight',\n",
      "  1),\n",
      " ('Novo Nordisk A/S', 'Renal Insufficiency', 1),\n",
      " ('Novo Nordisk A/S',\n",
      "  'Dwarfism,Endocrine System Diseases,Disease,Growth Disorders',\n",
      "  1),\n",
      " ('Novo Nordisk A/S',\n",
      "  'Dwarfism,Endocrine System Diseases,Growth Disorders',\n",
      "  1),\n",
      " ('Novo Nordisk A/S',\n",
      "  'Hemostatic Disorders,Blood Coagulation Disorders,Factor VII Deficiency',\n",
      "  1),\n",
      " ('Novo Nordisk A/S', 'Ovarian Neoplasms,Carcinoma', 1),\n",
      " ('Novo Nordisk A/S',\n",
      "  'Heart Diseases,Heart Defects,Hemostatic Disorders,Blood Coagulation Disorders',\n",
      "  1),\n",
      " ('Novo Nordisk A/S',\n",
      "  'Carcinoma,Thyroid Neoplasms,Diabetes Mellitus,Thyroid Diseases',\n",
      "  1),\n",
      " ('Novo Nordisk A/S', 'Diabetes Mellitus,Overweight,Body Weight Changes', 1),\n",
      " ('Novo Nordisk A/S', 'Hemophilia B', 1),\n",
      " ('Novo Nordisk A/S', 'Obesity,Prediabetic State', 1),\n",
      " ('Novo Nordisk A/S',\n",
      "  'Dwarfism,Prader-Willi Syndrome,Genetic Diseases,Disease,Growth Disorders',\n",
      "  1),\n",
      " ('Novo Nordisk A/S', 'Dwarfism,Hypopituitarism', 1),\n",
      " ('Novo Nordisk A/S', 'Arthritis', 1),\n",
      " ('Novo Nordisk A/S', 'Noonan Syndrome,Genetic Diseases,Syndrome', 1),\n",
      " ('Novo Nordisk A/S',\n",
      "  'Dwarfism,Renal Insufficiency,Endocrine System Diseases',\n",
      "  1),\n",
      " ('Novo Nordisk A/S', 'Diabetes Mellitus,Nutrition Disorders', 1),\n",
      " ('Novo Nordisk A/S', 'Nutrition Disorders,Overweight,Body Weight', 1),\n",
      " ('Novo Nordisk A/S',\n",
      "  'Fatty Liver,Non-alcoholic Fatty Liver Disease,Digestive System Diseases,Liver Diseases',\n",
      "  1),\n",
      " ('Novo Nordisk A/S',\n",
      "  'Turner Syndrome,Genetic Diseases,Disease,Growth Disorders',\n",
      "  1),\n",
      " ('Novo Nordisk A/S',\n",
      "  'Cardiovascular Diseases,Atherosclerosis,Hypercholesterolemia',\n",
      "  1),\n",
      " ('Novo Nordisk A/S', 'Diabetes,Diabetes Mellitus', 1),\n",
      " ('Novo Nordisk A/S',\n",
      "  'Diabetes Mellitus,Obesity,Nutrition Disorders,Overweight',\n",
      "  1),\n",
      " ('Novo Nordisk A/S', 'Colitis,Inflammation,Ulcer', 1),\n",
      " ('Novo Nordisk A/S', 'Heart Failure,Obesity', 1),\n",
      " ('Novo Nordisk A/S', 'Nutrition Disorders,Body Weight', 1),\n",
      " ('Novo Nordisk A/S', 'Noonan Syndrome,Genetic Diseases', 1),\n",
      " ('Novo Nordisk A/S', 'Postpartum Hemorrhage,Hemorrhage', 1),\n",
      " ('Novo Nordisk A/S',\n",
      "  'Peripheral Arterial Disease,Peripheral Vascular Diseases,Diabetes Mellitus',\n",
      "  1),\n",
      " ('Novo Nordisk A/S', 'Prader-Willi Syndrome,Nutrition Disorders', 1),\n",
      " ('Novo Nordisk A/S', 'Carcinoma', 1),\n",
      " ('Novo Nordisk A/S',\n",
      "  'Kidney Diseases,Renal Insufficiency,Cardiovascular Diseases,Inflammation,Chronic Disease',\n",
      "  1),\n",
      " ('Novo Nordisk A/S', 'Lung Diseases,Pulmonary Disease,Diabetes Mellitus', 1),\n",
      " ('Novo Nordisk A/S',\n",
      "  'Hemostatic Disorders,Hemophilia A,Blood Coagulation Disorders,Hemorrhagic Disorders,Disease,Hemorrhage',\n",
      "  1),\n",
      " ('Novo Nordisk A/S', 'Fractures,Tibial Fractures', 1)]"
     ]
    }
   ],
   "source": [
    "#Determining the number of clinical trials for each condition for a specific sponsor.\n",
    "\n",
    "clinicaltrial_Rdd.filter(lambda row: row.Sponsor == 'Novo Nordisk A/S') \\\n",
    "                 .map(lambda row: ((row.Sponsor, row.Conditions), 1)) \\\n",
    "                 .reduceByKey(lambda a, b: a + b) \\\n",
    "                 .map(lambda row: (row[0][0], row[0][1], row[1])) \\\n",
    "                 .sortBy(lambda row: row[2], ascending=False) \\\n",
    "                 .collect()"
   ]
  },
  {
   "cell_type": "code",
   "execution_count": 0,
   "metadata": {
    "application/vnd.databricks.v1+cell": {
     "cellMetadata": {
      "byteLimit": 2048000,
      "rowLimit": 10000
     },
     "inputWidgets": {},
     "nuid": "cb441c3d-da61-4d85-a62f-371c32103152",
     "showTitle": false,
     "title": ""
    }
   },
   "outputs": [
    {
     "name": "stdout",
     "output_type": "stream",
     "text": [
      "Out[40]: [(None, 65131)]"
     ]
    }
   ],
   "source": [
    "# RDD query to find the condition that has the highest number of trials and the number of trials for that condition\n",
    "\n",
    "clinicaltrial_Rdd.map(lambda row: (row.Conditions, 1)) \\\n",
    "                 .reduceByKey(lambda a, b: a + b) \\\n",
    "                 .sortBy(lambda row: row[1], ascending=False) \\\n",
    "                 .take(1)\n"
   ]
  },
  {
   "cell_type": "code",
   "execution_count": 0,
   "metadata": {
    "application/vnd.databricks.v1+cell": {
     "cellMetadata": {
      "byteLimit": 2048000,
      "rowLimit": 10000
     },
     "inputWidgets": {},
     "nuid": "15b47de6-e05d-4b23-83d2-b61569bf1192",
     "showTitle": false,
     "title": ""
    }
   },
   "outputs": [
    {
     "name": "stdout",
     "output_type": "stream",
     "text": [
      "Out[41]: [('GlaxoSmithKline', 2929),\n",
      " ('AstraZeneca', 2125),\n",
      " ('Pfizer', 1949),\n",
      " ('National Cancer Institute (NCI)', 1897),\n",
      " ('Boehringer Ingelheim', 1712),\n",
      " ('Merck Sharp & Dohme Corp.', 1693),\n",
      " ('Novartis Pharmaceuticals', 1411),\n",
      " ('Hoffmann-La Roche', 1379),\n",
      " ('Eli Lilly and Company', 1355),\n",
      " ('Bayer', 1214)]"
     ]
    }
   ],
   "source": [
    "#query to find the top 10 sponsors with the highest number of completed trials\n",
    "\n",
    "clinicaltrial_Rdd.filter(lambda row: row.Status == 'Completed') \\\n",
    "                 .map(lambda row: (row.Sponsor, 1)) \\\n",
    "                 .reduceByKey(lambda a, b: a + b) \\\n",
    "                 .sortBy(lambda row: row[1], ascending=False) \\\n",
    "                 .take(10)\n"
   ]
  },
  {
   "cell_type": "code",
   "execution_count": 0,
   "metadata": {
    "application/vnd.databricks.v1+cell": {
     "cellMetadata": {
      "byteLimit": 2048000,
      "rowLimit": 10000
     },
     "inputWidgets": {},
     "nuid": "930a6b1f-4a97-4613-abe1-65c0ad3c07f2",
     "showTitle": false,
     "title": ""
    }
   },
   "outputs": [
    {
     "name": "stdout",
     "output_type": "stream",
     "text": [
      "Out[42]: [('Assiut University', 18.730434782608697),\n",
      " ('Cairo University', 13.027027027027026),\n",
      " ('GlaxoSmithKline', 11.608247422680412),\n",
      " ('Assistance Publique - Hôpitaux de Paris', 9.748971193415638),\n",
      " ('AstraZeneca', 9.71480144404332),\n",
      " ('Pfizer', 9.412811387900355),\n",
      " ('International Institute of Rescue Research and Education', 9.25),\n",
      " ('National Cancer Institute (NCI)', 8.60427807486631),\n",
      " ('Mayo Clinic', 8.424908424908425),\n",
      " ('Novartis Pharmaceuticals', 8.15625)]"
     ]
    }
   ],
   "source": [
    "#Top sponsors with the highest average number of clinical trials per year:\n",
    "clinicaltrial_Rdd.map(lambda row: (row.Sponsor, row.Start.split('/')[-1], 1)) \\\n",
    "                 .groupBy(lambda row: row[0]) \\\n",
    "                 .map(lambda row: (row[0], sum([trial[2] for trial in row[1]]), len(set([trial[1] for trial in row[1]])))) \\\n",
    "                 .map(lambda row: (row[0], row[1] / row[2])) \\\n",
    "                 .sortBy(lambda row: row[1], ascending=False) \\\n",
    "                 .take(10)\n"
   ]
  },
  {
   "cell_type": "code",
   "execution_count": 0,
   "metadata": {
    "application/vnd.databricks.v1+cell": {
     "cellMetadata": {
      "byteLimit": 2048000,
      "rowLimit": 10000
     },
     "inputWidgets": {},
     "nuid": "0bc5aac5-0d81-4ea6-bd27-c6d02e52d6f9",
     "showTitle": false,
     "title": ""
    }
   },
   "outputs": [],
   "source": []
  },
  {
   "cell_type": "code",
   "execution_count": 0,
   "metadata": {
    "application/vnd.databricks.v1+cell": {
     "cellMetadata": {
      "byteLimit": 2048000,
      "rowLimit": 10000
     },
     "inputWidgets": {},
     "nuid": "66cd6a7f-7924-4e12-a210-f205f7fe1af6",
     "showTitle": false,
     "title": ""
    }
   },
   "outputs": [],
   "source": [
    "# USIN A USER DEFINED FUNCTION TO SOLVE THE QUESTIONS \n"
   ]
  },
  {
   "cell_type": "code",
   "execution_count": 0,
   "metadata": {
    "application/vnd.databricks.v1+cell": {
     "cellMetadata": {
      "byteLimit": 2048000,
      "rowLimit": 10000
     },
     "inputWidgets": {},
     "nuid": "d87b5b6d-08ac-47e6-82ed-7c74fc45c499",
     "showTitle": false,
     "title": ""
    }
   },
   "outputs": [
    {
     "name": "stdout",
     "output_type": "stream",
     "text": [
      "Number of studies: 387261\n"
     ]
    }
   ],
   "source": [
    "#This function returns the total number of studies in the dataset.\n",
    "\n",
    "def countStudies(rdd):\n",
    "    num_studies = rdd.map(lambda x: x[0]).distinct().count()\n",
    "    return num_studies\n",
    "\n",
    "result = countStudies(clinicaltrial_Rdd)\n",
    "print(\"Number of studies:\", result)\n"
   ]
  },
  {
   "cell_type": "code",
   "execution_count": 0,
   "metadata": {
    "application/vnd.databricks.v1+cell": {
     "cellMetadata": {
      "byteLimit": 2048000,
      "rowLimit": 10000
     },
     "inputWidgets": {},
     "nuid": "71f6d88d-66ca-4da5-ab06-fffe119ac965",
     "showTitle": false,
     "title": ""
    }
   },
   "outputs": [
    {
     "name": "stdout",
     "output_type": "stream",
     "text": [
      "[('Interventional', 301472), ('Observational', 77540), ('Observational [Patient Registry]', 8180), ('Expanded Access', 69)]\n"
     ]
    }
   ],
   "source": [
    "# This returns the frequency of each type of study in the dataset, sorted by frequency in descending order\n",
    "def countStudyTypes(rdd):\n",
    "    types = rdd.map(lambda x: x[5]).countByValue().items()\n",
    "    types_sorted = sorted(types, key=lambda x: x[1], reverse=True)\n",
    "    return types_sorted\n",
    "\n",
    "result = countStudyTypes(clinicaltrial_Rdd)  \n",
    "print(result)\n"
   ]
  },
  {
   "cell_type": "code",
   "execution_count": 0,
   "metadata": {
    "application/vnd.databricks.v1+cell": {
     "cellMetadata": {
      "byteLimit": 2048000,
      "rowLimit": 10000
     },
     "inputWidgets": {},
     "nuid": "53e090c7-593b-49cb-86c9-41e0327da324",
     "showTitle": false,
     "title": ""
    }
   },
   "outputs": [
    {
     "name": "stdout",
     "output_type": "stream",
     "text": [
      "[('National Cancer Institute (NCI)', 3218), ('M.D. Anderson Cancer Center', 2414), ('Assistance Publique - Hôpitaux de Paris', 2369), ('Mayo Clinic', 2300), ('Merck Sharp & Dohme Corp.', 2243), ('Assiut University', 2154), ('Novartis Pharmaceuticals', 2088), ('Massachusetts General Hospital', 1971), ('Cairo University', 1928), ('Hoffmann-La Roche', 1828)]\n"
     ]
    }
   ],
   "source": [
    "# list of top 10 non-pharmaceutical companies that sponsor clinical trials\n",
    "\n",
    "def topNonPharmaSponsors(clinicaltrial_Rdd, pharma_rdd):\n",
    "    pharma_companies = pharma_rdd.map(lambda x: x[1]).distinct().collect()\n",
    "    non_pharma_sponsors = clinicaltrial_Rdd.filter(lambda x: x[1] not in pharma_companies)\\\n",
    "                                      .map(lambda x: (x[1], 1))\\\n",
    "                                      .reduceByKey(lambda x, y: x + y)\\\n",
    "                                      .sortBy(lambda x: x[1], ascending=False)\\\n",
    "                                      .take(10)\n",
    "    return non_pharma_sponsors\n",
    "\n",
    "result = topNonPharmaSponsors(clinicaltrial_Rdd, pharma_Rdd)\n",
    "print(result)\n"
   ]
  },
  {
   "cell_type": "code",
   "execution_count": 0,
   "metadata": {
    "application/vnd.databricks.v1+cell": {
     "cellMetadata": {
      "byteLimit": 2048000,
      "rowLimit": 10000
     },
     "inputWidgets": {},
     "nuid": "e4e636b2-3359-4be4-8ecc-65fcbc316391",
     "showTitle": false,
     "title": ""
    }
   },
   "outputs": [],
   "source": []
  }
 ],
 "metadata": {
  "application/vnd.databricks.v1+notebook": {
   "dashboards": [],
   "language": "python",
   "notebookMetadata": {
    "mostRecentlyExecutedCommandWithImplicitDF": {
     "commandId": 3382738430982885,
     "dataframes": [
      "_sqldf"
     ]
    },
    "pythonIndentUnit": 4
   },
   "notebookName": "Chinazu_ Christian _Inyama _rdd",
   "notebookOrigID": 3728761146670277,
   "widgets": {}
  },
  "kernelspec": {
   "display_name": "Python 3 (ipykernel)",
   "language": "python",
   "name": "python3"
  },
  "language_info": {
   "codemirror_mode": {
    "name": "ipython",
    "version": 3
   },
   "file_extension": ".py",
   "mimetype": "text/x-python",
   "name": "python",
   "nbconvert_exporter": "python",
   "pygments_lexer": "ipython3",
   "version": "3.10.9"
  }
 },
 "nbformat": 4,
 "nbformat_minor": 1
}
